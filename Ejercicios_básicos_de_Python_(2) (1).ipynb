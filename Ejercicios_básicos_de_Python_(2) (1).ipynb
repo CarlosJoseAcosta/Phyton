{
  "nbformat": 4,
  "nbformat_minor": 0,
  "metadata": {
    "colab": {
      "provenance": [],
      "collapsed_sections": []
    },
    "kernelspec": {
      "name": "python3",
      "display_name": "Python 3"
    },
    "language_info": {
      "name": "python"
    }
  },
  "cells": [
    {
      "cell_type": "markdown",
      "source": [],
      "metadata": {
        "id": "IP4Rr94dpNma"
      }
    },
    {
      "cell_type": "markdown",
      "metadata": {
        "id": "RL-pITQqPt9a"
      },
      "source": [
        "1. Cree una lista denominada \"islas\" con los nombres de las Islas Canarias (sin La Graciosa)"
      ]
    },
    {
      "cell_type": "code",
      "source": [
        "islas = [\"La Palma\",\"El Hierro\",\"La Gomera\",\"Tenerife\",\"Gran Canaria\",\"Lanzarote\",\"Fuerteventura\"]"
      ],
      "metadata": {
        "id": "Ua1QrpLypQFa"
      },
      "execution_count": 1,
      "outputs": []
    },
    {
      "cell_type": "markdown",
      "metadata": {
        "id": "F0uHBoNIQaol"
      },
      "source": [
        "2. Muestre el tipo de dato de \"islas\""
      ]
    },
    {
      "cell_type": "code",
      "source": [
        "type(islas)"
      ],
      "metadata": {
        "colab": {
          "base_uri": "https://localhost:8080/"
        },
        "id": "pZ4wfVBuprUl",
        "outputId": "b553a2b2-b997-46de-c19b-4e7077547305"
      },
      "execution_count": 2,
      "outputs": [
        {
          "output_type": "execute_result",
          "data": {
            "text/plain": [
              "list"
            ]
          },
          "metadata": {},
          "execution_count": 2
        }
      ]
    },
    {
      "cell_type": "markdown",
      "metadata": {
        "id": "vtIi_BKuQhzB"
      },
      "source": [
        "3. ¿Cuántos elementos tiene la lista?"
      ]
    },
    {
      "cell_type": "code",
      "source": [
        "print(len(islas))"
      ],
      "metadata": {
        "colab": {
          "base_uri": "https://localhost:8080/"
        },
        "id": "ewnZkbiAp1gh",
        "outputId": "bed679c3-75b2-4a0c-c45c-d1c51d9d747f"
      },
      "execution_count": 3,
      "outputs": [
        {
          "output_type": "stream",
          "name": "stdout",
          "text": [
            "7\n"
          ]
        }
      ]
    },
    {
      "cell_type": "markdown",
      "metadata": {
        "id": "jdjxinSmQ07Z"
      },
      "source": [
        "4. Muestre el primer elemento de la lista. Muestre después el cuarto elemento de la lista"
      ]
    },
    {
      "cell_type": "code",
      "source": [
        "print(islas[0])\n",
        "print(islas[3])"
      ],
      "metadata": {
        "colab": {
          "base_uri": "https://localhost:8080/"
        },
        "id": "I6ZPMBSjp7rp",
        "outputId": "df9ea0be-b34b-4d3c-f457-a1dd5a74851a"
      },
      "execution_count": 7,
      "outputs": [
        {
          "output_type": "stream",
          "name": "stdout",
          "text": [
            "La Palma\n",
            "Tenerife\n"
          ]
        }
      ]
    },
    {
      "cell_type": "markdown",
      "metadata": {
        "id": "92cUTXBLRKnG"
      },
      "source": [
        "5. Muestre el tipo de dato del primer elemento de la lista"
      ]
    },
    {
      "cell_type": "code",
      "source": [
        "print(type(islas[0]))"
      ],
      "metadata": {
        "colab": {
          "base_uri": "https://localhost:8080/"
        },
        "id": "BGfFmn82qa_u",
        "outputId": "a34afde2-0e44-4da8-8bdc-58ed3106cc9b"
      },
      "execution_count": 8,
      "outputs": [
        {
          "output_type": "stream",
          "name": "stdout",
          "text": [
            "<class 'str'>\n"
          ]
        }
      ]
    },
    {
      "cell_type": "markdown",
      "metadata": {
        "id": "0ZOTl4bnRQj2"
      },
      "source": [
        "6. Ordene la lista \"islas\" por orden alfabético y muéstrela en pantalla"
      ]
    },
    {
      "cell_type": "code",
      "source": [
        "islas.sort()\n",
        "print(islas)"
      ],
      "metadata": {
        "colab": {
          "base_uri": "https://localhost:8080/"
        },
        "id": "LnFxgfJ0qsES",
        "outputId": "e8a58724-7d55-4dd7-e80e-f470e20eb5de"
      },
      "execution_count": 9,
      "outputs": [
        {
          "output_type": "stream",
          "name": "stdout",
          "text": [
            "['El Hierro', 'Fuerteventura', 'Gran Canaria', 'La Gomera', 'La Palma', 'Lanzarote', 'Tenerife']\n"
          ]
        }
      ]
    },
    {
      "cell_type": "markdown",
      "metadata": {
        "id": "SoBsVMqwTK5m"
      },
      "source": [
        "7. Muestre el último elemento de la lista"
      ]
    },
    {
      "cell_type": "code",
      "source": [
        "print(islas[6])"
      ],
      "metadata": {
        "colab": {
          "base_uri": "https://localhost:8080/"
        },
        "id": "2c6pC-derxsi",
        "outputId": "69f8ad2d-4dd7-48bc-af6c-89c6dd5a7d97"
      },
      "execution_count": 11,
      "outputs": [
        {
          "output_type": "stream",
          "name": "stdout",
          "text": [
            "Tenerife\n"
          ]
        }
      ]
    },
    {
      "cell_type": "markdown",
      "metadata": {
        "id": "B-a55S5hTaYJ"
      },
      "source": [
        "8. Muestre los tres primeros elementos de la lista"
      ]
    },
    {
      "cell_type": "code",
      "source": [
        "print(islas[:3])"
      ],
      "metadata": {
        "colab": {
          "base_uri": "https://localhost:8080/"
        },
        "id": "VzqTkdHSr8VQ",
        "outputId": "fc672300-7fa3-400e-d21f-2b52ddcfced4"
      },
      "execution_count": 13,
      "outputs": [
        {
          "output_type": "stream",
          "name": "stdout",
          "text": [
            "['El Hierro', 'Fuerteventura', 'Gran Canaria']\n"
          ]
        }
      ]
    },
    {
      "cell_type": "markdown",
      "metadata": {
        "id": "Nn98RkJwToVq"
      },
      "source": [
        "9. Muestre los dos últimos elementos de la lista"
      ]
    },
    {
      "cell_type": "code",
      "source": [
        "print(islas[5:7])"
      ],
      "metadata": {
        "colab": {
          "base_uri": "https://localhost:8080/"
        },
        "id": "v4GmiB3JsHG_",
        "outputId": "25438c1c-0a02-44ff-db07-bce80c9a2cae"
      },
      "execution_count": 16,
      "outputs": [
        {
          "output_type": "stream",
          "name": "stdout",
          "text": [
            "['Lanzarote', 'Tenerife']\n"
          ]
        }
      ]
    },
    {
      "cell_type": "markdown",
      "metadata": {
        "id": "3wYntBwBXL3P"
      },
      "source": [
        "10. ¿qué posición ocupa \"La Gomera\" en la lista \"islas\"?"
      ]
    },
    {
      "cell_type": "code",
      "source": [
        "print(islas.index(\"La Gomera\"))"
      ],
      "metadata": {
        "colab": {
          "base_uri": "https://localhost:8080/"
        },
        "id": "ACH1IGndsj-A",
        "outputId": "c0963b44-7898-4e3e-8965-bd09f878ef34"
      },
      "execution_count": 17,
      "outputs": [
        {
          "output_type": "stream",
          "name": "stdout",
          "text": [
            "3\n"
          ]
        }
      ]
    },
    {
      "cell_type": "markdown",
      "metadata": {
        "id": "74LCirh7T434"
      },
      "source": [
        "11. Añada \"La Graciosa\" a la lista \"islas\""
      ]
    },
    {
      "cell_type": "code",
      "source": [
        "islas.append(\"La Graciosa\")\n",
        "print(islas)"
      ],
      "metadata": {
        "colab": {
          "base_uri": "https://localhost:8080/"
        },
        "id": "bDffYY4Asst1",
        "outputId": "692073d6-e9a4-4686-f719-c7271031a92a"
      },
      "execution_count": 18,
      "outputs": [
        {
          "output_type": "stream",
          "name": "stdout",
          "text": [
            "['El Hierro', 'Fuerteventura', 'Gran Canaria', 'La Gomera', 'La Palma', 'Lanzarote', 'Tenerife', 'La Graciosa']\n"
          ]
        }
      ]
    },
    {
      "cell_type": "markdown",
      "metadata": {
        "id": "Ajf8AN-7Wb9K"
      },
      "source": [
        "12. Compruebe si \"La Graciosa\" está en la lista \"islas\""
      ]
    },
    {
      "cell_type": "code",
      "source": [
        "print(islas)"
      ],
      "metadata": {
        "colab": {
          "base_uri": "https://localhost:8080/"
        },
        "id": "KIGmX_was47U",
        "outputId": "9a0179d3-4637-4ca9-a10b-054003255bba"
      },
      "execution_count": 21,
      "outputs": [
        {
          "output_type": "stream",
          "name": "stdout",
          "text": [
            "['El Hierro', 'Fuerteventura', 'Gran Canaria', 'La Gomera', 'La Palma', 'Lanzarote', 'Tenerife', 'La Graciosa']\n"
          ]
        }
      ]
    },
    {
      "cell_type": "markdown",
      "metadata": {
        "id": "-2PaFdVfW0W1"
      },
      "source": [
        "13. Elimine \"La Graciosa\" de la lista \"islas\" y compruebe si \"La Graciosa\" está en la lista \"islas\""
      ]
    },
    {
      "cell_type": "code",
      "source": [
        "islas.remove(\"La Graciosa\")\n",
        "print(islas)"
      ],
      "metadata": {
        "colab": {
          "base_uri": "https://localhost:8080/"
        },
        "id": "RB1iV3RitFgr",
        "outputId": "29717e0e-6a7b-457c-92a0-300a7bab5b75"
      },
      "execution_count": 22,
      "outputs": [
        {
          "output_type": "stream",
          "name": "stdout",
          "text": [
            "['El Hierro', 'Fuerteventura', 'Gran Canaria', 'La Gomera', 'La Palma', 'Lanzarote', 'Tenerife']\n"
          ]
        }
      ]
    },
    {
      "cell_type": "markdown",
      "metadata": {
        "id": "mag-C9DnYxM1"
      },
      "source": [
        "14. Muestre los elementos de la lista de uno en uno"
      ]
    },
    {
      "cell_type": "code",
      "source": [
        "print(islas[::1])"
      ],
      "metadata": {
        "colab": {
          "base_uri": "https://localhost:8080/"
        },
        "id": "Z7lH2NXetO2F",
        "outputId": "c3132172-4863-47ce-eeab-622184735e2b"
      },
      "execution_count": 24,
      "outputs": [
        {
          "output_type": "stream",
          "name": "stdout",
          "text": [
            "['El Hierro', 'Fuerteventura', 'Gran Canaria', 'La Gomera', 'La Palma', 'Lanzarote', 'Tenerife']\n"
          ]
        }
      ]
    },
    {
      "cell_type": "markdown",
      "metadata": {
        "id": "f44HAA2IIfIZ"
      },
      "source": [
        "15. Pregunte al usuario en qué isla reside, almacénelo en la variable isla e indique al usuario \"Resides en la isla ....\""
      ]
    },
    {
      "cell_type": "code",
      "source": [
        "isla = input(\"Indique en que isla recide por favor:\")\n",
        "print(\"Usted reside en la isla\", isla)"
      ],
      "metadata": {
        "colab": {
          "base_uri": "https://localhost:8080/"
        },
        "id": "6ad67wldteT6",
        "outputId": "113bceb3-4b20-4066-fefb-ec333cd9d2a7"
      },
      "execution_count": 31,
      "outputs": [
        {
          "output_type": "stream",
          "name": "stdout",
          "text": [
            "Indique en que isla recide por favor:pepe\n",
            "Usted reside en la isla pepe\n"
          ]
        }
      ]
    },
    {
      "cell_type": "markdown",
      "metadata": {
        "id": "cIWa1oxZJCeZ"
      },
      "source": [
        "16. Compruebe si la isla está en la lista de islas y muestre un mensaje indicando \"Resides en una isla de las Islas Canarias\" en caso afirmativo o \"La isla .... no pertenece a las Islas Canarias\" en caso negativo"
      ]
    },
    {
      "cell_type": "code",
      "source": [
        "for x in islas:\n",
        "  if x == isla:\n",
        "    print(\"Reside en una isla\")\n",
        "    z = 1\n",
        "    break\n",
        "  else:\n",
        "    z = 2\n",
        "if z == 2:\n",
        "  print(isla, \"no pertenece a las Islas Canarias\")"
      ],
      "metadata": {
        "colab": {
          "base_uri": "https://localhost:8080/"
        },
        "id": "Zn8lINJ1uN3n",
        "outputId": "2ddd44d1-4a0c-4a98-e240-22d74f59f722"
      },
      "execution_count": 32,
      "outputs": [
        {
          "output_type": "stream",
          "name": "stdout",
          "text": [
            "pepe no pertenece a las Islas Canarias\n"
          ]
        }
      ]
    }
  ]
}